{
 "cells": [
  {
   "cell_type": "code",
   "execution_count": null,
   "metadata": {},
   "outputs": [],
   "source": [
    "import re\n",
    "import json\n",
    "import numpy as np\n",
    "import matplotlib.pyplot as plt\n",
    "\n",
    "import pandas as pd\n",
    "import geopandas as gpd\n",
    "from shapely.geometry import Point\n",
    "from pyproj import CRS\n",
    "\n",
    "%matplotlib inline\n",
    "# %matplotlib widget"
   ]
  },
  {
   "cell_type": "markdown",
   "metadata": {},
   "source": [
    "## Map of Europe"
   ]
  },
  {
   "cell_type": "code",
   "execution_count": null,
   "metadata": {},
   "outputs": [],
   "source": [
    "scale = 1 # 1 : 1,000,000\n",
    "year = 2021\n",
    "coord_ref = 3035 # coordinate reference system\n",
    "                 # 3035: Lambert azimuthal equal area\n",
    "                 # 3857: spherical Mercator projection\n",
    "                 # 4326: world geodetic system 1984\n",
    "europe_folder = f'geography/ref-nuts-{year}-{scale:02d}m'\n",
    "N_levels = 4\n",
    "map_types = 'BN', 'LB' # BN: boundary, LB: label, RG: region\n",
    "europe = {map_type: {} for map_type in map_types}\n",
    "for level in range(N_levels):\n",
    "    gdf = {}\n",
    "    for map_type in map_types:\n",
    "        if map_type == 'LB':\n",
    "            europe_file = f'{europe_folder}/NUTS_{map_type}_{year}_{coord_ref}_LEVL_{level}.json'\n",
    "        else:\n",
    "            europe_file = f'{europe_folder}/NUTS_{map_type}_{scale:02d}M_{year}_{coord_ref}_LEVL_{level}.json'\n",
    "        gdf = gpd.read_file(europe_file)\n",
    "        gdf.crs = CRS.from_user_input(coord_ref)\n",
    "        europe[map_type][level] = gdf"
   ]
  },
  {
   "cell_type": "markdown",
   "metadata": {},
   "source": [
    "## Coordinates of European capitals"
   ]
  },
  {
   "cell_type": "code",
   "execution_count": null,
   "metadata": {},
   "outputs": [],
   "source": [
    "data = json.load(open('geography/country-capitals.json','r'))\n",
    "blob = {'CNTR_NAME': [], 'CNTR_CODE': [], 'CITY_NAME': [], 'geometry': []}\n",
    "for c in data:\n",
    "    if c['ContinentName'] == 'Europe':\n",
    "        blob['CNTR_NAME'].append(c['CountryName'])\n",
    "        blob['CNTR_CODE'].append(c['CountryCode'])\n",
    "        blob['CITY_NAME'].append(c['CapitalName'])\n",
    "        blob['geometry'].append(Point(float(c['CapitalLongitude']), float(c['CapitalLatitude'])))\n",
    "capitals = gpd.GeoDataFrame(data=blob)\n",
    "capitals.crs = CRS.from_user_input(4326)\n",
    "capitals = capitals.to_crs(epsg=coord_ref)\n",
    "capitals_to_show = 'lisbon', 'madrid', 'paris', 'brussels', \\\n",
    "                   'amsterdam', 'rome', 'berlin', 'london', \\\n",
    "                   'dublin', 'stockholm', 'oslo', 'helsinki', \\\n",
    "                   'warsaw', 'bern', 'vienna', 'prague', 'sofia', \\\n",
    "                   'bucharest', 'budapest', 'riga', 'tallinn', \\\n",
    "                   'vilnius', 'reykjavik', 'athens', 'ankara', \\\n",
    "                   'nicosia'"
   ]
  },
  {
   "cell_type": "markdown",
   "metadata": {},
   "source": [
    "## Bounding box"
   ]
  },
  {
   "cell_type": "code",
   "execution_count": null,
   "metadata": {},
   "outputs": [],
   "source": [
    "bbox = {'WS': Point(-9.5, 30), 'EN': Point(75, 60)}\n",
    "points = gpd.GeoDataFrame(data=bbox.values(),\n",
    "                          index=pd.Index(data=bbox.keys(), name='name'),\n",
    "                          columns=['geometry'])\n",
    "points.loc['home'] = Point(9.400984, 44.272555)\n",
    "points.crs = CRS.from_user_input(4326)\n",
    "points = points.to_crs(epsg=coord_ref)"
   ]
  },
  {
   "cell_type": "markdown",
   "metadata": {},
   "source": [
    "## Weather stations in Italy"
   ]
  },
  {
   "cell_type": "code",
   "execution_count": null,
   "metadata": {},
   "outputs": [],
   "source": [
    "stations = pd.read_csv('ghcnd-stations.csv', header=None, index_col=0, \\\n",
    "                       names=['latitude','longitude', 'elevation', \\\n",
    "                              'name', 'prcp', 'prcp_attributes'])\n",
    "# UK, GM, SP, IT, NO, SWE, FI\n",
    "country_code = 'IT'\n",
    "stations = stations.filter(regex='^'+country_code, axis='index')\n",
    "stations['geometry'] = [Point(long, lat) for lat,long \n",
    "                        in stations.loc[:,['latitude','longitude']].itertuples(index=False)]\n",
    "stations = gpd.GeoDataFrame(stations[['name','geometry']])\n",
    "stations.crs = CRS.from_user_input(4326)\n",
    "stations = stations.to_crs(epsg=coord_ref)\n",
    "print(f'There are {len(stations)} weather stations in {country_code}.')"
   ]
  },
  {
   "cell_type": "code",
   "execution_count": null,
   "metadata": {},
   "outputs": [],
   "source": [
    "fig,ax = plt.subplots(1, 1, figsize=(12,8))\n",
    "light_gray = .75 + np.zeros(3)\n",
    "dark_gray = .3 + np.zeros(3)\n",
    "europe['BN'][0].plot(ax=ax, lw=1, color=dark_gray)\n",
    "europe['BN'][1].plot(ax=ax, lw=0.75, color=light_gray)\n",
    "europe['BN'][2].plot(ax=ax, lw=0.75, color=light_gray)\n",
    "europe['BN'][3].plot(ax=ax, lw=0.75, color=light_gray)\n",
    "for point,ID in zip(europe['LB'][0].geometry, europe['LB'][0].NUTS_ID):\n",
    "    ax.text(point.x, point.y, ID,\n",
    "            horizontalalignment='center',\n",
    "            verticalalignment='center',\n",
    "            fontsize=14, color=[.7,.2,.2])\n",
    "for point,name in zip(capitals.geometry, capitals.CITY_NAME):\n",
    "    ax.plot(point.x, point.y, 's', markersize=6, color=light_gray)\n",
    "    if name.lower() in capitals_to_show:\n",
    "        ax.text(point.x, point.y, name.capitalize(),\n",
    "                horizontalalignment='left',\n",
    "                verticalalignment='baseline',\n",
    "                fontsize=10, color=[0,.5,1])\n",
    "for point in stations.geometry:\n",
    "    ax.plot(point.x, point.y, '.', markersize=5, color=[0,1,.5])\n",
    "ax.set_xlim([points.loc['WS','geometry'].x, points.loc['EN','geometry'].x])\n",
    "ax.set_ylim([points.loc['WS','geometry'].y, points.loc['EN','geometry'].y])\n",
    "ax.axis('off')\n",
    "fig.tight_layout()"
   ]
  }
 ],
 "metadata": {
  "kernelspec": {
   "display_name": "Python 3",
   "language": "python",
   "name": "python3"
  },
  "language_info": {
   "codemirror_mode": {
    "name": "ipython",
    "version": 3
   },
   "file_extension": ".py",
   "mimetype": "text/x-python",
   "name": "python",
   "nbconvert_exporter": "python",
   "pygments_lexer": "ipython3",
   "version": "3.9.9"
  }
 },
 "nbformat": 4,
 "nbformat_minor": 4
}
