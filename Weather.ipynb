{
 "cells": [
  {
   "cell_type": "code",
   "execution_count": null,
   "metadata": {},
   "outputs": [],
   "source": [
    "import re\n",
    "import pandas as pd\n",
    "import numpy as np\n",
    "import matplotlib.pyplot as plt\n",
    "import seaborn as sns\n",
    "\n",
    "from dly_to_dataframe import *"
   ]
  },
  {
   "cell_type": "code",
   "execution_count": null,
   "metadata": {},
   "outputs": [],
   "source": [
    "all_stations = pd.read_csv('ghcnd-stations.csv', header=None, index_col=0, \\\n",
    "                            names=['LATITUDE','LONGITUDE', 'ELEVATION', \\\n",
    "                                   'NAME', 'PRCP', 'PRCP_ATTRIBUTES'])\n",
    "country_code = 'IT'\n",
    "stations = all_stations.filter(regex='^'+country_code, axis='index')\n",
    "print(f'There are {len(stations)} weather stations in {country_code}.')"
   ]
  },
  {
   "cell_type": "code",
   "execution_count": null,
   "metadata": {},
   "outputs": [],
   "source": [
    "# station_code = 'ITE00100552' # Genoa\n",
    "station_code = 'ITW00033126' # Sigonella\n",
    "# station_code = 'ITM00016158' # Pisa\n",
    "stations.loc[station_code]"
   ]
  },
  {
   "cell_type": "markdown",
   "metadata": {},
   "source": [
    "dly files can be downloaded from https://www1.ncdc.noaa.gov/pub/data/ghcn/daily/all/"
   ]
  },
  {
   "cell_type": "code",
   "execution_count": null,
   "metadata": {},
   "outputs": [],
   "source": [
    "df = read_dly_file(station_code + '.dly', min_year=1960, max_year=2021)"
   ]
  },
  {
   "cell_type": "code",
   "execution_count": null,
   "metadata": {},
   "outputs": [],
   "source": [
    "fig,ax = plt.subplots(1, 1, figsize=(7,4))\n",
    "df.plot(y=['tmin','tmax'], lw=0.75, ax=ax)\n",
    "sns.despine()\n",
    "fig.tight_layout()"
   ]
  },
  {
   "cell_type": "code",
   "execution_count": null,
   "metadata": {},
   "outputs": [],
   "source": [
    "tmp = df[df['month'] == 2].groupby('year').mean()\n",
    "fig,ax = plt.subplots(1, 1, figsize=(5,2), sharex=True)\n",
    "tmp.plot(y='prcp', color='k', ax=ax, lw=1, legend=None)\n",
    "sns.despine()\n",
    "# ax[0].set_ylabel('Min. T [C]')\n",
    "# ax[1].set_ylabel('Max. T [C]')\n",
    "fig.tight_layout()"
   ]
  },
  {
   "cell_type": "code",
   "execution_count": null,
   "metadata": {},
   "outputs": [],
   "source": [
    "tmp = df[df['month'] == 7].groupby('year').mean()\n",
    "fig,ax = plt.subplots(2, 1, figsize=(5,3.5), sharex=True)\n",
    "for col,a in zip(('tmin','tmax'), ax):\n",
    "    tmp.plot(y=col, color='k', ax=a, lw=1, legend=None)\n",
    "sns.despine()\n",
    "ax[0].set_ylabel('Min. T [C]')\n",
    "ax[1].set_ylabel('Max. T [C]')\n",
    "fig.tight_layout()"
   ]
  }
 ],
 "metadata": {
  "kernelspec": {
   "display_name": "Python 3 (ipykernel)",
   "language": "python",
   "name": "python3"
  },
  "language_info": {
   "codemirror_mode": {
    "name": "ipython",
    "version": 3
   },
   "file_extension": ".py",
   "mimetype": "text/x-python",
   "name": "python",
   "nbconvert_exporter": "python",
   "pygments_lexer": "ipython3",
   "version": "3.10.8"
  }
 },
 "nbformat": 4,
 "nbformat_minor": 4
}
