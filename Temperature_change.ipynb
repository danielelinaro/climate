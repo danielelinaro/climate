{
 "cells": [
  {
   "cell_type": "code",
   "execution_count": null,
   "id": "00181e92",
   "metadata": {},
   "outputs": [],
   "source": [
    "import os\n",
    "import glob\n",
    "import numpy as np\n",
    "import pandas as pd\n",
    "import matplotlib.pyplot as plt\n",
    "import seaborn as sns"
   ]
  },
  {
   "cell_type": "markdown",
   "id": "1a56880a",
   "metadata": {},
   "source": [
    "dly files can be downloaded from https://www1.ncdc.noaa.gov/pub/data/ghcn/daily/all/"
   ]
  },
  {
   "cell_type": "code",
   "execution_count": null,
   "id": "a243f266",
   "metadata": {},
   "outputs": [],
   "source": [
    "def compute_mean(dfs, elem_name, last_year=2022, year_window=[5,30]):\n",
    "    n = len(dfs)\n",
    "    recent, history = np.nan + np.zeros(n), np.nan + np.zeros(n)\n",
    "    for i,df in enumerate(dfs):\n",
    "        if elem_name in df:\n",
    "            tmp = df.groupby('year').agg(np.nanmean)[elem_name]\n",
    "            year = tmp.index.to_numpy()\n",
    "            elem = tmp.to_numpy()\n",
    "            idx = (year>last_year-year_window[0]) & (year<=last_year)\n",
    "            jdx = (year>last_year-np.sum(year_window)) & (year<=last_year-year_window[0])\n",
    "            if any(idx) and any(jdx):\n",
    "                recent[i] = elem[idx].mean()\n",
    "                history[i] = elem[jdx].mean()\n",
    "    return recent, history"
   ]
  },
  {
   "cell_type": "code",
   "execution_count": null,
   "id": "c3ab30f2",
   "metadata": {},
   "outputs": [],
   "source": [
    "station_coords = pd.read_csv('ghcnd-stations.csv', header=None, index_col=0, \n",
    "                       names=['latitude','longitude', 'elevation','name', 'prcp', 'prcp_attributes'])"
   ]
  },
  {
   "cell_type": "code",
   "execution_count": null,
   "id": "3eb72787",
   "metadata": {},
   "outputs": [],
   "source": [
    "country_code = 'IT'\n",
    "data_dir = 'ghcnd_all'\n",
    "data_files = sorted(glob.glob(os.path.join(data_dir, country_code + '*.parquet*')))\n",
    "station_IDs = [os.path.basename(f).split('.')[0] for f in data_files]\n",
    "dfs = [pd.read_parquet(f) for f in data_files]"
   ]
  },
  {
   "cell_type": "code",
   "execution_count": null,
   "id": "9cda5704",
   "metadata": {},
   "outputs": [],
   "source": [
    "last_year = 2022\n",
    "window = [5, 30]\n",
    "data = {}\n",
    "for elem_name in ('tmax', 'tmin'):\n",
    "    rec,hist = compute_mean(dfs, elem_name, last_year, window)\n",
    "    data[elem_name + '_recent'] = rec\n",
    "    data[elem_name + '_history'] = hist\n",
    "    data[elem_name + '_delta'] = rec - hist\n",
    "df = pd.DataFrame(data=data, index=station_IDs)"
   ]
  },
  {
   "cell_type": "code",
   "execution_count": null,
   "id": "c1462977",
   "metadata": {},
   "outputs": [],
   "source": [
    "df = df.join(station_coords[['latitude','longitude','elevation','name']], how='inner')\n",
    "idx, = np.where(df['tmax_delta'] < -5)\n",
    "jdx = [df.columns.get_loc(col) for col in ('tmax_delta','tmin_delta')]\n",
    "df.iloc[idx, jdx] = np.nan"
   ]
  },
  {
   "cell_type": "code",
   "execution_count": null,
   "id": "3e84d235",
   "metadata": {},
   "outputs": [],
   "source": [
    "fig,ax = plt.subplots(1, 1)\n",
    "df.plot.scatter(x='longitude', y='latitude', c='tmax_delta', colormap='coolwarm', ax=ax)\n",
    "ax.axis('equal')"
   ]
  },
  {
   "cell_type": "code",
   "execution_count": null,
   "id": "4ebd88ae",
   "metadata": {},
   "outputs": [],
   "source": [
    "fig,ax = plt.subplots(1, 2, figsize=(7,3))\n",
    "for i,key in enumerate(recent):\n",
    "    ax[i].plot(history[key], recent[key], 'o', color=[.5,.5,.5], markersize=4,\n",
    "               markerfacecolor='w', markeredgewidth=1)\n",
    "    m = min(np.nanmin(history[key]), np.nanmin(recent[key]))\n",
    "    M = max(np.nanmax(history[key]), np.nanmax(recent[key]))\n",
    "    m = m * 0.9 if m > 0 else m * 1.1\n",
    "    M = M * 1.1 if M > 0 else M * 0.9\n",
    "    ax[i].plot([m,M], [m,M], 'k', lw=2)\n",
    "    ax[i].set_title(key)\n",
    "    ax[i].set_xlabel('Mean {} to {}'.format(last_year-np.sum(window)+1, last_year-window[0]))\n",
    "ax[0].set_ylabel('Mean {} to {}'.format(last_year-window[0]+1, last_year))\n",
    "sns.despine()\n",
    "fig.tight_layout()"
   ]
  },
  {
   "cell_type": "code",
   "execution_count": null,
   "id": "f20dc46b",
   "metadata": {},
   "outputs": [],
   "source": [
    "delta_T = (recent['tmax'] - history['tmax'])\n",
    "delta_T = delta_T[np.logical_not(np.isnan(delta_T))]\n",
    "de = 0.2\n",
    "edges = np.r_[-2 : 5 : de]\n",
    "n,_ = np.histogram(delta_T, edges)"
   ]
  },
  {
   "cell_type": "code",
   "execution_count": null,
   "id": "daed4d5c",
   "metadata": {},
   "outputs": [],
   "source": [
    "fig,ax = plt.subplots(1, 1, figsize=(5,3))\n",
    "ax.bar(edges[:-1], n, width=de*0.75, align='edge', facecolor=.7+np.zeros(3), edgecolor='k', linewidth=1)\n",
    "ax.set_xlabel('ΔT [C]')\n",
    "ax.set_ylabel('Count')\n",
    "sns.despine()\n",
    "fig.tight_layout()"
   ]
  }
 ],
 "metadata": {
  "kernelspec": {
   "display_name": "Python 3",
   "language": "python",
   "name": "python3"
  },
  "language_info": {
   "codemirror_mode": {
    "name": "ipython",
    "version": 3
   },
   "file_extension": ".py",
   "mimetype": "text/x-python",
   "name": "python",
   "nbconvert_exporter": "python",
   "pygments_lexer": "ipython3",
   "version": "3.9.9"
  }
 },
 "nbformat": 4,
 "nbformat_minor": 5
}
