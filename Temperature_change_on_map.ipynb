{
 "cells": [
  {
   "cell_type": "code",
   "execution_count": null,
   "metadata": {},
   "outputs": [],
   "source": [
    "import os\n",
    "import re\n",
    "import json\n",
    "import glob\n",
    "import numpy as np\n",
    "import matplotlib.pyplot as plt\n",
    "from tqdm.notebook import tqdm\n",
    "from scipy.interpolate import LinearNDInterpolator, NearestNDInterpolator\n",
    "\n",
    "import pandas as pd\n",
    "import geopandas as gpd\n",
    "from shapely.geometry import Point\n",
    "from pyproj import CRS\n",
    "\n",
    "%matplotlib inline"
   ]
  },
  {
   "cell_type": "code",
   "execution_count": null,
   "metadata": {},
   "outputs": [],
   "source": [
    "def compute_mean(dfs, elem_name, last_year=2022, year_window=[5,30]):\n",
    "    n = len(dfs)\n",
    "    recent, history = np.nan + np.zeros(n), np.nan + np.zeros(n)\n",
    "    for i,df in enumerate(dfs):\n",
    "        if elem_name in df:\n",
    "            tmp = df.groupby('year').agg(np.nanmean)[elem_name]\n",
    "            year = tmp.index.to_numpy()\n",
    "            elem = tmp.to_numpy()\n",
    "            idx = (year>last_year-year_window[0]) & (year<=last_year)\n",
    "            jdx = (year>last_year-np.sum(year_window)) & (year<=last_year-year_window[0])\n",
    "            if any(idx) and any(jdx):\n",
    "                recent[i] = elem[idx].mean()\n",
    "                history[i] = elem[jdx].mean()\n",
    "    return recent, history"
   ]
  },
  {
   "cell_type": "markdown",
   "metadata": {},
   "source": [
    "## Map of Europe"
   ]
  },
  {
   "cell_type": "code",
   "execution_count": null,
   "metadata": {},
   "outputs": [],
   "source": [
    "scale = 1 # 1 : 1,000,000\n",
    "year = 2021\n",
    "coord_ref = 3035 # coordinate reference system\n",
    "                 # 3035: Lambert azimuthal equal area\n",
    "                 # 3857: spherical Mercator projection\n",
    "                 # 4326: world geodetic system 1984\n",
    "europe_folder = f'geography/ref-nuts-{year}-{scale:02d}m'\n",
    "N_levels = 4\n",
    "map_types = 'BN', 'LB' # BN: boundary, LB: label, RG: region\n",
    "europe = {map_type: {} for map_type in map_types}\n",
    "for level in range(N_levels):\n",
    "    gdf = {}\n",
    "    for map_type in map_types:\n",
    "        if map_type == 'LB':\n",
    "            europe_file = f'{europe_folder}/NUTS_{map_type}_{year}_{coord_ref}_LEVL_{level}.json'\n",
    "        else:\n",
    "            europe_file = f'{europe_folder}/NUTS_{map_type}_{scale:02d}M_{year}_{coord_ref}_LEVL_{level}.json'\n",
    "        gdf = gpd.read_file(europe_file)\n",
    "        gdf.crs = CRS.from_user_input(coord_ref)\n",
    "        europe[map_type][level] = gdf"
   ]
  },
  {
   "cell_type": "markdown",
   "metadata": {},
   "source": [
    "## Bounding box"
   ]
  },
  {
   "cell_type": "code",
   "execution_count": null,
   "metadata": {},
   "outputs": [],
   "source": [
    "bbox = {'WS': Point(-9.5, 30), 'EN': Point(75, 60)}\n",
    "points = gpd.GeoDataFrame(data=bbox.values(),\n",
    "                          index=pd.Index(data=bbox.keys(), name='name'),\n",
    "                          columns=['geometry'])\n",
    "points.loc['home'] = Point(9.400984, 44.272555)\n",
    "points.crs = CRS.from_user_input(4326)\n",
    "points = points.to_crs(epsg=coord_ref)"
   ]
  },
  {
   "cell_type": "markdown",
   "metadata": {},
   "source": [
    "## Weather stations"
   ]
  },
  {
   "cell_type": "code",
   "execution_count": null,
   "metadata": {},
   "outputs": [],
   "source": [
    "country_codes = 'AJ','AL','AM','AU','BE','BK','BO','BU','CY','DA',\\\n",
    "                'EI','EN','EZ','FI','FR','GG','GM','IT','SW','LG',\\\n",
    "                'LH','LO','LU','MD','MJ','MK','MT','NL'\n",
    "data_dir = 'ghcnd_all'\n",
    "dfs, station_IDs = [], []\n",
    "for code in country_codes:\n",
    "    data_files = sorted(glob.glob(os.path.join(data_dir, code + '*.parquet*')))\n",
    "    for f in tqdm(data_files):\n",
    "        station_IDs.append(os.path.basename(f).split('.')[0])\n",
    "        dfs.append(pd.read_parquet(f))"
   ]
  },
  {
   "cell_type": "code",
   "execution_count": null,
   "metadata": {},
   "outputs": [],
   "source": [
    "last_year = 2022\n",
    "window = [5, 30]\n",
    "data = {}\n",
    "for elem_name in ('tmax', 'tmin'):\n",
    "    rec,hist = compute_mean(dfs, elem_name, last_year, window)\n",
    "    data[elem_name + '_recent'] = rec\n",
    "    data[elem_name + '_history'] = hist\n",
    "    data[elem_name + '_delta'] = rec - hist\n",
    "df = pd.DataFrame(data=data, index=station_IDs)"
   ]
  },
  {
   "cell_type": "code",
   "execution_count": null,
   "metadata": {},
   "outputs": [],
   "source": [
    "stations = pd.read_csv('ghcnd-stations.csv', header=None, index_col=0, \\\n",
    "                       names=['latitude','longitude', 'elevation', \\\n",
    "                              'name', 'prcp', 'prcp_attributes'])\n",
    "stations = stations.join(df, how='inner')\n",
    "stations['geometry'] = [Point(long, lat) for lat,long \n",
    "                        in stations.loc[:,['latitude','longitude']].itertuples(index=False)]\n",
    "stations = gpd.GeoDataFrame(stations[['name','tmax_delta','tmin_delta','geometry']])\n",
    "stations.crs = CRS.from_user_input(4326)\n",
    "stations = stations.to_crs(epsg=coord_ref)"
   ]
  },
  {
   "cell_type": "code",
   "execution_count": null,
   "metadata": {},
   "outputs": [],
   "source": [
    "XY = np.zeros((len(stations), 2))\n",
    "for i,point in enumerate(stations.geometry):\n",
    "    XY[i,0], XY[i,1] = point.x, point.y\n",
    "ΔT = stations.tmax_delta.to_numpy()\n",
    "idx, = np.where(np.logical_not(np.isnan(ΔT)))\n",
    "ΔT = ΔT[idx]\n",
    "XY = XY[idx]\n",
    "ΔT[ΔT > 5] = 5\n",
    "ΔT[ΔT < -5] = -5\n",
    "interp = LinearNDInterpolator(XY, ΔT)"
   ]
  },
  {
   "cell_type": "code",
   "execution_count": null,
   "metadata": {},
   "outputs": [],
   "source": [
    "bin_size = 10000\n",
    "x = np.r_[XY[:,0].min() : XY[:,0].max()+bin_size/2 : bin_size]\n",
    "y = np.r_[XY[:,1].min() : XY[:,1].max()+bin_size/2 : bin_size]\n",
    "X,Y = np.meshgrid(x, y)\n",
    "Z = interp(np.array([X.flatten(), Y.flatten()]).T).reshape(X.shape)"
   ]
  },
  {
   "cell_type": "code",
   "execution_count": null,
   "metadata": {},
   "outputs": [],
   "source": [
    "fig,ax = plt.subplots(1, 1, figsize=(12,8))\n",
    "light_gray = .75 + np.zeros(3)\n",
    "dark_gray = .3 + np.zeros(3)\n",
    "europe['BN'][0].plot(ax=ax, lw=1, color=dark_gray)\n",
    "# europe['BN'][1].plot(ax=ax, lw=0.75, color=light_gray)\n",
    "# europe['BN'][2].plot(ax=ax, lw=0.75, color=light_gray)\n",
    "# europe['BN'][3].plot(ax=ax, lw=0.75, color=light_gray)\n",
    "ax.pcolormesh(X, Y, Z, vmin=-5, vmax=5, cmap='coolwarm')\n",
    "ax.set_xlim([points.loc['WS','geometry'].x, points.loc['EN','geometry'].x])\n",
    "ax.set_ylim([points.loc['WS','geometry'].y, points.loc['EN','geometry'].y])\n",
    "ax.axis('off')\n",
    "fig.tight_layout()"
   ]
  },
  {
   "cell_type": "code",
   "execution_count": null,
   "metadata": {},
   "outputs": [],
   "source": []
  }
 ],
 "metadata": {
  "kernelspec": {
   "display_name": "Python 3",
   "language": "python",
   "name": "python3"
  },
  "language_info": {
   "codemirror_mode": {
    "name": "ipython",
    "version": 3
   },
   "file_extension": ".py",
   "mimetype": "text/x-python",
   "name": "python",
   "nbconvert_exporter": "python",
   "pygments_lexer": "ipython3",
   "version": "3.9.9"
  }
 },
 "nbformat": 4,
 "nbformat_minor": 4
}
